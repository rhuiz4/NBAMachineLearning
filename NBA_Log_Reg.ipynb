{
 "cells": [
  {
   "cell_type": "code",
   "execution_count": 1,
   "id": "negative-salmon",
   "metadata": {},
   "outputs": [],
   "source": [
    "import numpy as np\n",
    "import pandas as pd\n",
    "from sklearn.preprocessing import StandardScaler\n",
    "from sklearn.linear_model import LogisticRegression\n",
    "from sklearn.model_selection import train_test_split\n",
    "import matplotlib.pyplot as plt\n",
    "%matplotlib inline "
   ]
  },
  {
   "cell_type": "code",
   "execution_count": 2,
   "id": "accompanied-burns",
   "metadata": {},
   "outputs": [],
   "source": [
    "STATS_CSV = \"Seasons_Stats.csv\"\n",
    "PLAYER_DATA_CSV = \"player_data.csv\"\n",
    "#Read data\n",
    "stats = pd.read_csv(STATS_CSV)\n",
    "#Only keep players that have played many minutes, are in the 5 major positions\n",
    "pos = ['C', 'PF', 'PG', 'SG', 'SF']\n",
    "stats = stats[stats['MP'] >= 1750]\n",
    "stats = stats[stats['Pos'].isin(pos)]\n",
    "#Only keep useful columns\n",
    "stats = stats[['Pos', 'Age', 'TS%', '3PAr', 'TRB%', 'AST%', 'STL%', 'BLK%', 'USG%', 'FG%', '3P%', '2P%', 'FT%']]\n",
    "#Drop rows with missing data\n",
    "stats = stats.dropna(0)"
   ]
  },
  {
   "cell_type": "code",
   "execution_count": 3,
   "id": "polyphonic-expense",
   "metadata": {},
   "outputs": [
    {
     "data": {
      "text/plain": [
       "(5101, 13)"
      ]
     },
     "execution_count": 3,
     "metadata": {},
     "output_type": "execute_result"
    }
   ],
   "source": [
    "stats.shape"
   ]
  },
  {
   "cell_type": "code",
   "execution_count": 4,
   "id": "fifteen-designation",
   "metadata": {},
   "outputs": [
    {
     "data": {
      "text/html": [
       "<div>\n",
       "<style scoped>\n",
       "    .dataframe tbody tr th:only-of-type {\n",
       "        vertical-align: middle;\n",
       "    }\n",
       "\n",
       "    .dataframe tbody tr th {\n",
       "        vertical-align: top;\n",
       "    }\n",
       "\n",
       "    .dataframe thead th {\n",
       "        text-align: right;\n",
       "    }\n",
       "</style>\n",
       "<table border=\"1\" class=\"dataframe\">\n",
       "  <thead>\n",
       "    <tr style=\"text-align: right;\">\n",
       "      <th></th>\n",
       "      <th>Pos</th>\n",
       "      <th>Age</th>\n",
       "      <th>TS%</th>\n",
       "      <th>3PAr</th>\n",
       "      <th>TRB%</th>\n",
       "      <th>AST%</th>\n",
       "      <th>STL%</th>\n",
       "      <th>BLK%</th>\n",
       "      <th>USG%</th>\n",
       "      <th>FG%</th>\n",
       "      <th>3P%</th>\n",
       "      <th>2P%</th>\n",
       "      <th>FT%</th>\n",
       "    </tr>\n",
       "  </thead>\n",
       "  <tbody>\n",
       "    <tr>\n",
       "      <th>5727</th>\n",
       "      <td>C</td>\n",
       "      <td>32.0</td>\n",
       "      <td>0.639</td>\n",
       "      <td>0.001</td>\n",
       "      <td>15.4</td>\n",
       "      <td>16.5</td>\n",
       "      <td>1.2</td>\n",
       "      <td>4.6</td>\n",
       "      <td>24.1</td>\n",
       "      <td>0.604</td>\n",
       "      <td>0.000</td>\n",
       "      <td>0.604</td>\n",
       "      <td>0.765</td>\n",
       "    </tr>\n",
       "    <tr>\n",
       "      <th>5729</th>\n",
       "      <td>C</td>\n",
       "      <td>25.0</td>\n",
       "      <td>0.571</td>\n",
       "      <td>0.002</td>\n",
       "      <td>15.4</td>\n",
       "      <td>21.6</td>\n",
       "      <td>2.3</td>\n",
       "      <td>1.4</td>\n",
       "      <td>21.9</td>\n",
       "      <td>0.531</td>\n",
       "      <td>0.000</td>\n",
       "      <td>0.533</td>\n",
       "      <td>0.797</td>\n",
       "    </tr>\n",
       "    <tr>\n",
       "      <th>5730</th>\n",
       "      <td>PG</td>\n",
       "      <td>31.0</td>\n",
       "      <td>0.574</td>\n",
       "      <td>0.023</td>\n",
       "      <td>3.8</td>\n",
       "      <td>30.2</td>\n",
       "      <td>1.7</td>\n",
       "      <td>0.2</td>\n",
       "      <td>17.0</td>\n",
       "      <td>0.482</td>\n",
       "      <td>0.222</td>\n",
       "      <td>0.488</td>\n",
       "      <td>0.830</td>\n",
       "    </tr>\n",
       "    <tr>\n",
       "      <th>5734</th>\n",
       "      <td>SF</td>\n",
       "      <td>25.0</td>\n",
       "      <td>0.532</td>\n",
       "      <td>0.043</td>\n",
       "      <td>13.1</td>\n",
       "      <td>9.7</td>\n",
       "      <td>1.7</td>\n",
       "      <td>0.8</td>\n",
       "      <td>21.6</td>\n",
       "      <td>0.495</td>\n",
       "      <td>0.340</td>\n",
       "      <td>0.502</td>\n",
       "      <td>0.753</td>\n",
       "    </tr>\n",
       "    <tr>\n",
       "      <th>5735</th>\n",
       "      <td>SF</td>\n",
       "      <td>28.0</td>\n",
       "      <td>0.533</td>\n",
       "      <td>0.004</td>\n",
       "      <td>10.1</td>\n",
       "      <td>15.9</td>\n",
       "      <td>1.7</td>\n",
       "      <td>1.1</td>\n",
       "      <td>17.3</td>\n",
       "      <td>0.505</td>\n",
       "      <td>0.333</td>\n",
       "      <td>0.506</td>\n",
       "      <td>0.665</td>\n",
       "    </tr>\n",
       "    <tr>\n",
       "      <th>...</th>\n",
       "      <td>...</td>\n",
       "      <td>...</td>\n",
       "      <td>...</td>\n",
       "      <td>...</td>\n",
       "      <td>...</td>\n",
       "      <td>...</td>\n",
       "      <td>...</td>\n",
       "      <td>...</td>\n",
       "      <td>...</td>\n",
       "      <td>...</td>\n",
       "      <td>...</td>\n",
       "      <td>...</td>\n",
       "      <td>...</td>\n",
       "    </tr>\n",
       "    <tr>\n",
       "      <th>24654</th>\n",
       "      <td>PG</td>\n",
       "      <td>28.0</td>\n",
       "      <td>0.554</td>\n",
       "      <td>0.300</td>\n",
       "      <td>17.1</td>\n",
       "      <td>57.3</td>\n",
       "      <td>2.3</td>\n",
       "      <td>0.9</td>\n",
       "      <td>41.7</td>\n",
       "      <td>0.425</td>\n",
       "      <td>0.343</td>\n",
       "      <td>0.459</td>\n",
       "      <td>0.845</td>\n",
       "    </tr>\n",
       "    <tr>\n",
       "      <th>24658</th>\n",
       "      <td>SF</td>\n",
       "      <td>21.0</td>\n",
       "      <td>0.534</td>\n",
       "      <td>0.184</td>\n",
       "      <td>6.3</td>\n",
       "      <td>10.6</td>\n",
       "      <td>1.4</td>\n",
       "      <td>0.8</td>\n",
       "      <td>29.0</td>\n",
       "      <td>0.452</td>\n",
       "      <td>0.356</td>\n",
       "      <td>0.473</td>\n",
       "      <td>0.760</td>\n",
       "    </tr>\n",
       "    <tr>\n",
       "      <th>24667</th>\n",
       "      <td>SG</td>\n",
       "      <td>30.0</td>\n",
       "      <td>0.593</td>\n",
       "      <td>0.447</td>\n",
       "      <td>5.5</td>\n",
       "      <td>19.9</td>\n",
       "      <td>1.9</td>\n",
       "      <td>0.8</td>\n",
       "      <td>29.1</td>\n",
       "      <td>0.429</td>\n",
       "      <td>0.365</td>\n",
       "      <td>0.480</td>\n",
       "      <td>0.880</td>\n",
       "    </tr>\n",
       "    <tr>\n",
       "      <th>24670</th>\n",
       "      <td>PF</td>\n",
       "      <td>30.0</td>\n",
       "      <td>0.551</td>\n",
       "      <td>0.503</td>\n",
       "      <td>11.9</td>\n",
       "      <td>7.1</td>\n",
       "      <td>1.3</td>\n",
       "      <td>2.0</td>\n",
       "      <td>16.3</td>\n",
       "      <td>0.422</td>\n",
       "      <td>0.350</td>\n",
       "      <td>0.494</td>\n",
       "      <td>0.873</td>\n",
       "    </tr>\n",
       "    <tr>\n",
       "      <th>24685</th>\n",
       "      <td>PF</td>\n",
       "      <td>28.0</td>\n",
       "      <td>0.562</td>\n",
       "      <td>0.172</td>\n",
       "      <td>11.3</td>\n",
       "      <td>8.4</td>\n",
       "      <td>2.6</td>\n",
       "      <td>1.2</td>\n",
       "      <td>16.5</td>\n",
       "      <td>0.527</td>\n",
       "      <td>0.381</td>\n",
       "      <td>0.557</td>\n",
       "      <td>0.523</td>\n",
       "    </tr>\n",
       "  </tbody>\n",
       "</table>\n",
       "<p>5101 rows × 13 columns</p>\n",
       "</div>"
      ],
      "text/plain": [
       "      Pos   Age    TS%   3PAr  TRB%  AST%  STL%  BLK%  USG%    FG%    3P%  \\\n",
       "5727    C  32.0  0.639  0.001  15.4  16.5   1.2   4.6  24.1  0.604  0.000   \n",
       "5729    C  25.0  0.571  0.002  15.4  21.6   2.3   1.4  21.9  0.531  0.000   \n",
       "5730   PG  31.0  0.574  0.023   3.8  30.2   1.7   0.2  17.0  0.482  0.222   \n",
       "5734   SF  25.0  0.532  0.043  13.1   9.7   1.7   0.8  21.6  0.495  0.340   \n",
       "5735   SF  28.0  0.533  0.004  10.1  15.9   1.7   1.1  17.3  0.505  0.333   \n",
       "...    ..   ...    ...    ...   ...   ...   ...   ...   ...    ...    ...   \n",
       "24654  PG  28.0  0.554  0.300  17.1  57.3   2.3   0.9  41.7  0.425  0.343   \n",
       "24658  SF  21.0  0.534  0.184   6.3  10.6   1.4   0.8  29.0  0.452  0.356   \n",
       "24667  SG  30.0  0.593  0.447   5.5  19.9   1.9   0.8  29.1  0.429  0.365   \n",
       "24670  PF  30.0  0.551  0.503  11.9   7.1   1.3   2.0  16.3  0.422  0.350   \n",
       "24685  PF  28.0  0.562  0.172  11.3   8.4   2.6   1.2  16.5  0.527  0.381   \n",
       "\n",
       "         2P%    FT%  \n",
       "5727   0.604  0.765  \n",
       "5729   0.533  0.797  \n",
       "5730   0.488  0.830  \n",
       "5734   0.502  0.753  \n",
       "5735   0.506  0.665  \n",
       "...      ...    ...  \n",
       "24654  0.459  0.845  \n",
       "24658  0.473  0.760  \n",
       "24667  0.480  0.880  \n",
       "24670  0.494  0.873  \n",
       "24685  0.557  0.523  \n",
       "\n",
       "[5101 rows x 13 columns]"
      ]
     },
     "execution_count": 4,
     "metadata": {},
     "output_type": "execute_result"
    }
   ],
   "source": [
    "stats"
   ]
  },
  {
   "cell_type": "code",
   "execution_count": 5,
   "id": "earlier-reproduction",
   "metadata": {},
   "outputs": [
    {
     "name": "stdout",
     "output_type": "stream",
     "text": [
      "C:  722\n",
      "PF:  1010\n",
      "PG:  1106\n",
      "SG:  1133\n",
      "SF:  1130\n"
     ]
    }
   ],
   "source": [
    "for p in pos:\n",
    "    print(p + \": \", stats[stats['Pos'] == p].shape[0])"
   ]
  },
  {
   "cell_type": "code",
   "execution_count": 6,
   "id": "technical-supplier",
   "metadata": {},
   "outputs": [],
   "source": [
    "#Get and normalize the features\n",
    "X = stats.drop(['Pos'], axis=1)\n",
    "feature_labels = X.columns\n",
    "X = X.to_numpy()\n",
    "#normalize(X, copy=False)\n",
    "X_scaled = StandardScaler().fit(X).transform(X)\n",
    "\n",
    "#Get and normalize the target\n",
    "y = stats['Pos']\n",
    "for i in range(5):\n",
    "    y = y.replace(to_replace=pos[i], value=i)\n",
    "y = y.to_numpy()\n",
    "\n",
    "X_train, X_test, y_train, y_test = train_test_split(X_scaled, y, test_size=0.33, random_state=21)"
   ]
  },
  {
   "cell_type": "code",
   "execution_count": 7,
   "id": "supported-collection",
   "metadata": {},
   "outputs": [
    {
     "data": {
      "text/plain": [
       "(5101, 12)"
      ]
     },
     "execution_count": 7,
     "metadata": {},
     "output_type": "execute_result"
    }
   ],
   "source": [
    "X_scaled.shape"
   ]
  },
  {
   "cell_type": "code",
   "execution_count": 8,
   "id": "premium-asbestos",
   "metadata": {},
   "outputs": [
    {
     "name": "stdout",
     "output_type": "stream",
     "text": [
      "0.7084323040380047 0.7114427860696517\n"
     ]
    }
   ],
   "source": [
    "model = LogisticRegression(penalty='none', multi_class='multinomial', class_weight='balanced', max_iter=12000)\n",
    "model.fit(X_train,y_train)\n",
    "acc_test = model.score(X_test, y_test)\n",
    "acc_train = model.score(X_train, y_train)\n",
    "print(acc_test, acc_train)"
   ]
  },
  {
   "cell_type": "code",
   "execution_count": 9,
   "id": "allied-scotland",
   "metadata": {},
   "outputs": [],
   "source": [
    "coefs = model.coef_"
   ]
  },
  {
   "cell_type": "code",
   "execution_count": 10,
   "id": "shared-spencer",
   "metadata": {},
   "outputs": [],
   "source": [
    "def show_weights(mat):\n",
    "    for i in range(mat.shape[0]):\n",
    "        print(\"==============================\")\n",
    "        print(pos[i]) #constant pos\n",
    "        for j in range(mat.shape[1]):\n",
    "            print(feature_labels[j], \": \", mat[i][j])"
   ]
  },
  {
   "cell_type": "code",
   "execution_count": 11,
   "id": "distinguished-maintenance",
   "metadata": {},
   "outputs": [
    {
     "name": "stdout",
     "output_type": "stream",
     "text": [
      "C 0.02563850415512466\n",
      "PF 0.08563465346534653\n",
      "PG 0.2202839059674503\n",
      "SG 0.2362992056487202\n",
      "SF 0.1942592920353982\n"
     ]
    }
   ],
   "source": [
    "for p in pos:\n",
    "    print(p, stats[stats['Pos'] == p]['3PAr'].mean())"
   ]
  },
  {
   "cell_type": "code",
   "execution_count": 12,
   "id": "musical-happening",
   "metadata": {},
   "outputs": [
    {
     "name": "stdout",
     "output_type": "stream",
     "text": [
      "==============================\n",
      "C\n",
      "Age :  0.7080926426552995\n",
      "TS% :  -0.07220445454658359\n",
      "3PAr :  -0.4200126223269753\n",
      "TRB% :  4.107131534926769\n",
      "AST% :  -1.170776730903545\n",
      "STL% :  -1.2910532641393162\n",
      "BLK% :  1.5744894302398977\n",
      "USG% :  -0.006402094628633014\n",
      "FG% :  0.9643271773884975\n",
      "3P% :  0.04823839009830327\n",
      "2P% :  -0.7381985206551607\n",
      "FT% :  -0.03714652654472604\n",
      "==============================\n",
      "PF\n",
      "Age :  0.4108300850827754\n",
      "TS% :  -0.17777023680045104\n",
      "3PAr :  0.10150000947815438\n",
      "TRB% :  3.519560530504613\n",
      "AST% :  -1.444582973390547\n",
      "STL% :  -0.6856045101333633\n",
      "BLK% :  0.7685294244270897\n",
      "USG% :  0.3049842355995918\n",
      "FG% :  0.1876638671276515\n",
      "3P% :  0.13110235547376395\n",
      "2P% :  0.060186400171585816\n",
      "FT% :  -0.09326752236731471\n",
      "==============================\n",
      "PG\n",
      "Age :  -0.8301151964038265\n",
      "TS% :  -0.03768582610465162\n",
      "3PAr :  0.8196717987681047\n",
      "TRB% :  -4.892110825118649\n",
      "AST% :  3.485064316654887\n",
      "STL% :  1.1392389656577737\n",
      "BLK% :  -2.178442468817056\n",
      "USG% :  -0.8577922358927168\n",
      "FG% :  0.17606385926378243\n",
      "3P% :  -0.6375335474124065\n",
      "2P% :  -0.4084207511597487\n",
      "FT% :  0.17354727521848404\n",
      "==============================\n",
      "SG\n",
      "Age :  -0.31975240158655394\n",
      "TS% :  0.06421202936360533\n",
      "3PAr :  -0.129735121864067\n",
      "TRB% :  -3.1314606990984437\n",
      "AST% :  0.03998066996332828\n",
      "STL% :  0.7623976977883807\n",
      "BLK% :  -0.4594598103327224\n",
      "USG% :  0.2955999570712859\n",
      "FG% :  -0.6382921781468432\n",
      "3P% :  0.16828198994344554\n",
      "2P% :  0.4803550227852575\n",
      "FT% :  0.03715641835811897\n",
      "==============================\n",
      "SF\n",
      "Age :  0.030944870252299677\n",
      "TS% :  0.22344848808806464\n",
      "3PAr :  -0.37142406405521\n",
      "TRB% :  0.3968794587856334\n",
      "AST% :  -0.9096852823241389\n",
      "STL% :  0.07502111082652667\n",
      "BLK% :  0.2948834244827677\n",
      "USG% :  0.2636101378504583\n",
      "FG% :  -0.6897627256330965\n",
      "3P% :  0.28991081189691925\n",
      "2P% :  0.6060778488580587\n",
      "FT% :  -0.08028964466457457\n"
     ]
    }
   ],
   "source": [
    "show_weights(coefs)"
   ]
  },
  {
   "cell_type": "code",
   "execution_count": 13,
   "id": "charged-faith",
   "metadata": {},
   "outputs": [],
   "source": [
    "cVals = [0.0001, 0.001, 0.01, 0.1, 1, 10, 100]"
   ]
  },
  {
   "cell_type": "code",
   "execution_count": 14,
   "id": "signed-people",
   "metadata": {},
   "outputs": [],
   "source": [
    "# Try different C values if using penalty\n",
    "def model_and_graph(penalty, solver, random_state, X_tr, y_tr, X_ts, y_ts, title):\n",
    "    tr_acc = []\n",
    "    ts_acc = []\n",
    "    for c in cVals:\n",
    "        model = LogisticRegression(penalty=penalty, C=c, solver=solver, random_state=random_state, multi_class='multinomial', max_iter=12000)\n",
    "        model.fit(X_tr,y_tr)\n",
    "        ts_acc.append(model.score(X_ts, y_ts))\n",
    "        tr_acc.append(model.score(X_tr, y_tr))\n",
    "    for i in range(len(cVals)):\n",
    "        print(\"C: \", cVals[i], \" Train acc: \", tr_acc[i], \" Test acc: \", ts_acc[i])\n",
    "    plt.plot(cVals,tr_acc,'.-')\n",
    "    plt.plot(cVals,ts_acc,'.-')\n",
    "    plt.xlabel('c')\n",
    "    plt.ylabel('accuracy')\n",
    "    plt.xscale('log')\n",
    "    plt.title(title)\n",
    "    plt.grid()\n",
    "    plt.legend(['Training Accuracy', 'Test Accuracy'])\n",
    "    plt.show(block=False)"
   ]
  },
  {
   "cell_type": "code",
   "execution_count": 15,
   "id": "physical-demographic",
   "metadata": {},
   "outputs": [
    {
     "name": "stdout",
     "output_type": "stream",
     "text": [
      "C:  0.0001  Train acc:  0.22300263388937663  Test acc:  0.21852731591448932\n",
      "C:  0.001  Train acc:  0.38191395961369623  Test acc:  0.3913301662707839\n",
      "C:  0.01  Train acc:  0.6646180860403863  Test acc:  0.6757719714964371\n",
      "C:  0.1  Train acc:  0.7073456248170911  Test acc:  0.7108076009501187\n",
      "C:  1  Train acc:  0.7088088966930055  Test acc:  0.7119952494061758\n",
      "C:  10  Train acc:  0.707638279192274  Test acc:  0.7102137767220903\n",
      "C:  100  Train acc:  0.7079309335674568  Test acc:  0.7102137767220903\n"
     ]
    },
    {
     "data": {
      "image/png": "[encoded data removed]",
      "text/plain": [
       "<Figure size 432x288 with 1 Axes>"
      ]
     },
     "metadata": {
      "needs_background": "light"
     },
     "output_type": "display_data"
    }
   ],
   "source": [
    "model_and_graph('l1','saga',21,X_train,y_train,X_test,y_test,\"L1 Regularisation: c vs accuracy\")"
   ]
  },
  {
   "cell_type": "code",
   "execution_count": 16,
   "id": "unknown-budget",
   "metadata": {},
   "outputs": [
    {
     "name": "stdout",
     "output_type": "stream",
     "text": [
      "C:  0.0001  Train acc:  0.5209247878255779  Test acc:  0.5267220902612827\n",
      "C:  0.001  Train acc:  0.6262803628914252  Test acc:  0.6318289786223278\n",
      "C:  0.01  Train acc:  0.6821773485513608  Test acc:  0.6923990498812351\n",
      "C:  0.1  Train acc:  0.704419081065262  Test acc:  0.7090261282660333\n",
      "C:  1  Train acc:  0.7085162423178226  Test acc:  0.7125890736342043\n",
      "C:  10  Train acc:  0.7082235879426397  Test acc:  0.7108076009501187\n",
      "C:  100  Train acc:  0.7082235879426397  Test acc:  0.7102137767220903\n"
     ]
    },
    {
     "data": {
      "image/png": "[encoded data removed]",
      "text/plain": [
       "<Figure size 432x288 with 1 Axes>"
      ]
     },
     "metadata": {
      "needs_background": "light"
     },
     "output_type": "display_data"
    }
   ],
   "source": [
    "model_and_graph('l2','lbfgs',21,X_train,y_train,X_test,y_test,\"L2 Regularisation: c vs accuracy\")"
   ]
  },
  {
   "cell_type": "markdown",
   "id": "olympic-tissue",
   "metadata": {},
   "source": [
    "# Logistic Regression Using Polynomial Feature Transformation\n"
   ]
  },
  {
   "cell_type": "code",
   "execution_count": 17,
   "id": "crazy-harbor",
   "metadata": {},
   "outputs": [],
   "source": [
    "from sklearn.preprocessing import PolynomialFeatures"
   ]
  },
  {
   "cell_type": "code",
   "execution_count": 18,
   "id": "closed-acrobat",
   "metadata": {},
   "outputs": [],
   "source": [
    "poly = PolynomialFeatures(2)"
   ]
  },
  {
   "cell_type": "code",
   "execution_count": 19,
   "id": "cloudy-directory",
   "metadata": {},
   "outputs": [],
   "source": [
    "X_transformed_train = poly.fit_transform(X_train)\n",
    "X_transformed_test = poly.fit_transform(X_test)"
   ]
  },
  {
   "cell_type": "code",
   "execution_count": 20,
   "id": "vietnamese-rescue",
   "metadata": {},
   "outputs": [
    {
     "name": "stdout",
     "output_type": "stream",
     "text": [
      "Transformed, no penalty, test acc:  0.7185273159144893\n",
      "Transformed, no penalty, train acc:  0.7582674860989171\n"
     ]
    }
   ],
   "source": [
    "model_none = LogisticRegression(penalty='none', random_state=21, multi_class='multinomial', max_iter=12000)\n",
    "model_none.fit(X_transformed_train,y_train)\n",
    "acc = model_none.score(X_transformed_test, y_test)\n",
    "print(\"Transformed, no penalty, test acc: \", acc)\n",
    "acc = model_none.score(X_transformed_train, y_train)\n",
    "print(\"Transformed, no penalty, train acc: \", acc)"
   ]
  },
  {
   "cell_type": "code",
   "execution_count": 21,
   "id": "martial-english",
   "metadata": {},
   "outputs": [
    {
     "name": "stdout",
     "output_type": "stream",
     "text": [
      "C:  0.0001  Train acc:  0.22300263388937663  Test acc:  0.21852731591448932\n",
      "C:  0.001  Train acc:  0.3585016095990635  Test acc:  0.37232779097387175\n",
      "C:  0.01  Train acc:  0.6774948785484343  Test acc:  0.684085510688836\n",
      "C:  0.1  Train acc:  0.7292947029558092  Test acc:  0.7238717339667459\n",
      "C:  1  Train acc:  0.7547556335967223  Test acc:  0.7250593824228029\n",
      "C:  10  Train acc:  0.7573895229733685  Test acc:  0.7209026128266033\n",
      "C:  100  Train acc:  0.7579748317237343  Test acc:  0.7203087885985748\n"
     ]
    },
    {
     "data": {
      "image/png": "[encoded data removed]",
      "text/plain": [
       "<Figure size 432x288 with 1 Axes>"
      ]
     },
     "metadata": {
      "needs_background": "light"
     },
     "output_type": "display_data"
    }
   ],
   "source": [
    "model_and_graph('l1','saga',21,X_transformed_train,y_train,X_transformed_test,y_test,\"L1 Regularisation with Poly(2) transform: c vs accuracy\")"
   ]
  },
  {
   "cell_type": "code",
   "execution_count": 22,
   "id": "dramatic-church",
   "metadata": {},
   "outputs": [
    {
     "name": "stdout",
     "output_type": "stream",
     "text": [
      "C:  0.0001  Train acc:  0.6145741878841089  Test acc:  0.6068883610451307\n",
      "C:  0.001  Train acc:  0.6763242610477027  Test acc:  0.6733966745843231\n",
      "C:  0.01  Train acc:  0.7278314310798947  Test acc:  0.7191211401425178\n",
      "C:  0.1  Train acc:  0.7503658179689786  Test acc:  0.7232779097387173\n",
      "C:  1  Train acc:  0.7597307579748317  Test acc:  0.7244655581947743\n",
      "C:  10  Train acc:  0.7611940298507462  Test acc:  0.7226840855106889\n",
      "C:  100  Train acc:  0.7597307579748317  Test acc:  0.7238717339667459\n"
     ]
    },
    {
     "data": {
      "image/png": "[encoded data removed]",
      "text/plain": [
       "<Figure size 432x288 with 1 Axes>"
      ]
     },
     "metadata": {
      "needs_background": "light"
     },
     "output_type": "display_data"
    }
   ],
   "source": [
    "model_and_graph('l2','lbfgs',21,X_transformed_train,y_train,X_transformed_test,y_test,\"L2 Regularisation with Poly(2) transform: c vs accuracy\")"
   ]
  },
  {
   "cell_type": "markdown",
   "id": "future-cause",
   "metadata": {},
   "source": [
    "# Transform before scaling\n"
   ]
  },
  {
   "cell_type": "code",
   "execution_count": 23,
   "id": "stunning-respect",
   "metadata": {},
   "outputs": [],
   "source": [
    "Xp2 = stats.drop(['Pos'], axis=1).to_numpy()\n",
    "Xp2 = poly.fit_transform(Xp2)\n",
    "Xp2_scaled = StandardScaler().fit(Xp2).transform(Xp2)\n",
    "\n",
    "#Get and normalize the target\n",
    "y = stats['Pos']\n",
    "for i in range(5):\n",
    "    y = y.replace(to_replace=pos[i], value=i)\n",
    "y = y.to_numpy()\n",
    "#Y is unchanged but yea\n",
    "Xp2_train, Xp2_test, yp2_train, yp2_test = train_test_split(Xp2_scaled, y, test_size=0.33, random_state=21)"
   ]
  },
  {
   "cell_type": "code",
   "execution_count": 24,
   "id": "timely-roots",
   "metadata": {},
   "outputs": [
    {
     "name": "stdout",
     "output_type": "stream",
     "text": [
      "Transformed, no penalty, test acc:  0.7173396674584323\n",
      "Transformed, no penalty, train acc:  0.7609013754755634\n"
     ]
    },
    {
     "name": "stderr",
     "output_type": "stream",
     "text": [
      "c:\\users\\andrew qu\\.virtualenvs\\andrew_qu-3aprwf1j\\lib\\site-packages\\sklearn\\linear_model\\_logistic.py:763: ConvergenceWarning: lbfgs failed to converge (status=1):\n",
      "STOP: TOTAL NO. of ITERATIONS REACHED LIMIT.\n",
      "\n",
      "Increase the number of iterations (max_iter) or scale the data as shown in:\n",
      "    https://scikit-learn.org/stable/modules/preprocessing.html\n",
      "Please also refer to the documentation for alternative solver options:\n",
      "    https://scikit-learn.org/stable/modules/linear_model.html#logistic-regression\n",
      "  n_iter_i = _check_optimize_result(\n"
     ]
    }
   ],
   "source": [
    "model_none = LogisticRegression(penalty='none', random_state=21, multi_class='multinomial', max_iter=12000)\n",
    "model_none.fit(Xp2_train,yp2_train)\n",
    "acc = model_none.score(Xp2_test, yp2_test)\n",
    "print(\"Transformed, no penalty, test acc: \", acc)\n",
    "acc = model_none.score(Xp2_train, yp2_train)\n",
    "print(\"Transformed, no penalty, train acc: \", acc)"
   ]
  },
  {
   "cell_type": "code",
   "execution_count": 25,
   "id": "saved-danish",
   "metadata": {},
   "outputs": [
    {
     "name": "stdout",
     "output_type": "stream",
     "text": [
      "C:  0.0001  Train acc:  0.22300263388937663  Test acc:  0.21852731591448932\n",
      "C:  0.001  Train acc:  0.38191395961369623  Test acc:  0.3913301662707839\n",
      "C:  0.01  Train acc:  0.672227099795142  Test acc:  0.6870546318289786\n",
      "C:  0.1  Train acc:  0.7143693298214808  Test acc:  0.7131828978622328\n",
      "C:  1  Train acc:  0.7281240854550776  Test acc:  0.7203087885985748\n",
      "C:  10  Train acc:  0.7433421129645889  Test acc:  0.7214964370546318\n",
      "C:  100  Train acc:  0.7480245829675154  Test acc:  0.7209026128266033\n"
     ]
    },
    {
     "data": {
      "image/png": "[encoded data removed]",
      "text/plain": [
       "<Figure size 432x288 with 1 Axes>"
      ]
     },
     "metadata": {
      "needs_background": "light"
     },
     "output_type": "display_data"
    }
   ],
   "source": [
    "model_and_graph('l1','saga',21,Xp2_train,yp2_train,Xp2_test,yp2_test,\"L1 Regularisation with Poly(2) transform: c vs accuracy\")"
   ]
  },
  {
   "cell_type": "code",
   "execution_count": 26,
   "id": "magnetic-identity",
   "metadata": {},
   "outputs": [
    {
     "name": "stdout",
     "output_type": "stream",
     "text": [
      "C:  0.0001  Train acc:  0.6347673397717296  Test acc:  0.6383610451306413\n",
      "C:  0.001  Train acc:  0.6859818554287387  Test acc:  0.6918052256532067\n",
      "C:  0.01  Train acc:  0.7129060579455663  Test acc:  0.7119952494061758\n",
      "C:  0.1  Train acc:  0.7240269242025168  Test acc:  0.7149643705463183\n",
      "C:  1  Train acc:  0.7348551360842844  Test acc:  0.7226840855106889\n",
      "C:  10  Train acc:  0.7453906935908692  Test acc:  0.7238717339667459\n",
      "C:  100  Train acc:  0.7576821773485514  Test acc:  0.7209026128266033\n"
     ]
    },
    {
     "data": {
      "image/png": "[encoded data removed]",
      "text/plain": [
       "<Figure size 432x288 with 1 Axes>"
      ]
     },
     "metadata": {
      "needs_background": "light"
     },
     "output_type": "display_data"
    }
   ],
   "source": [
    "model_and_graph('l2','lbfgs',21,Xp2_train,yp2_train,Xp2_test,yp2_test,\"L2 Regularisation with Poly(2) transform: c vs accuracy\")"
   ]
  }
 ],
 "metadata": {
  "kernelspec": {
   "display_name": "Python 3",
   "language": "python",
   "name": "python3"
  },
  "language_info": {
   "codemirror_mode": {
    "name": "ipython",
    "version": 3
   },
   "file_extension": ".py",
   "mimetype": "text/x-python",
   "name": "python",
   "nbconvert_exporter": "python",
   "pygments_lexer": "ipython3",
   "version": "3.9.1"
  }
 },
 "nbformat": 4,
 "nbformat_minor": 5
}
