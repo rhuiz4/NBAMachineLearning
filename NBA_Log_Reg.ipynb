{
 "cells": [
  {
   "cell_type": "code",
   "execution_count": 15,
   "id": "negative-salmon",
   "metadata": {},
   "outputs": [],
   "source": [
    "import numpy as np\n",
    "import pandas as pd\n",
    "from sklearn.preprocessing import normalize\n",
    "from sklearn.linear_model import LogisticRegression\n",
    "from sklearn.model_selection import train_test_split\n",
    "import matplotlib.pyplot as plt\n",
    "%matplotlib inline "
   ]
  },
  {
   "cell_type": "code",
   "execution_count": 2,
   "id": "maritime-seattle",
   "metadata": {},
   "outputs": [],
   "source": [
    "STATS_CSV = \"Seasons_Stats.csv\"\n",
    "PLAYER_DATA_CSV = \"player_data.csv\"\n",
    "\n",
    "VIEW_SAMPLE = 10\n",
    "\n",
    "# play_data = pd.read_csv(PLAYER_DATA_CSV)\n",
    "# print(play_data.shape)\n",
    "\n",
    "# play_data1 = play_data.dropna(0)\n",
    "# print(play_data1.shape)\n",
    "\n",
    "\n",
    "#Reads data, drops useless columns\n",
    "stats = pd.read_csv(STATS_CSV)\n",
    "stats = stats.drop(['blanl', 'blank2', 'Unnamed: 0', 'Player', 'Tm', 'GS', 'G', 'OWS', 'DWS', 'WS', 'WS/48'], axis=1)\n",
    "\n",
    "#Keep columns with data we want, drop useless rows\n",
    "stats = stats[['Pos', 'Age', 'TS%', '3PAr', 'TRB%', 'AST%', 'STL%', 'BLK%', 'TRB%', 'USG%', 'FG%', '3P%', '2P%', 'FT%']]\n",
    "stats = stats.dropna(0)\n",
    "pos = ['C', 'PF', 'PG', 'SG', 'SF']\n",
    "stats = stats[stats['Pos'].isin(pos)].sample(n=5000, random_state=21)\n",
    "\n",
    "#Get and normalize the features\n",
    "X = stats.drop(['Pos'], axis=1).to_numpy()\n",
    "normalize(X, copy=False)\n",
    "\n",
    "#Get and normalize the target\n",
    "y = stats['Pos']\n",
    "for i in range(5):\n",
    "    y = y.replace(to_replace=pos[i], value=i)\n",
    "y = y.to_numpy()\n",
    "\n",
    "X_train, X_test, y_train, y_test = train_test_split(X, y, test_size=0.33, random_state=21)"
   ]
  },
  {
   "cell_type": "code",
   "execution_count": 44,
   "id": "premium-asbestos",
   "metadata": {},
   "outputs": [
    {
     "name": "stdout",
     "output_type": "stream",
     "text": [
      "0.6315151515151515 0.6447761194029851\n"
     ]
    }
   ],
   "source": [
    "model = LogisticRegression(penalty='none', multi_class='multinomial', max_iter=10000)\n",
    "model.fit(X_train,y_train)\n",
    "acc_test = model.score(X_test, y_test)\n",
    "acc_train = model.score(X_train, y_train)\n",
    "print(acc_test, acc_train)"
   ]
  },
  {
   "cell_type": "code",
   "execution_count": 4,
   "id": "regulated-analyst",
   "metadata": {},
   "outputs": [
    {
     "name": "stdout",
     "output_type": "stream",
     "text": [
      "Predicted: 3 \tActual: 3\n",
      "Predicted: 2 \tActual: 2\n",
      "Predicted: 1 \tActual: 1\n",
      "Predicted: 3 \tActual: 3\n",
      "Predicted: 1 \tActual: 1\n",
      "Predicted: 2 \tActual: 2\n",
      "Predicted: 3 \tActual: 2\n",
      "Predicted: 4 \tActual: 4\n",
      "Predicted: 4 \tActual: 4\n",
      "Predicted: 3 \tActual: 4\n",
      "[[ 7.91419378e+00  9.81253063e+01 -1.82534283e+02  1.33494101e+01\n",
      "  -1.04022200e+00 -4.68210770e+01  3.26639112e+01  1.33494101e+01\n",
      "   2.64763852e+00  9.09014605e+01 -1.28534661e+01 -2.83950864e+02\n",
      "  -9.67386272e+01]\n",
      " [ 6.66261938e+00  1.52257146e+01 -7.13606381e+00  1.21129316e+01\n",
      "  -1.67470305e+00 -2.28470937e+01  1.29924588e+01  1.21129316e+01\n",
      "   4.19221334e+00 -4.55304824e+01  1.00584183e+01  1.21137418e+01\n",
      "  -6.20550209e+01]\n",
      " [-8.62828908e+00 -2.60526460e+02  1.50931904e+02 -1.56071595e+01\n",
      "   7.11632140e+00  3.46507647e+01 -3.90998594e+01 -1.56071595e+01\n",
      "  -7.60652701e+00  3.12334408e+02 -1.39960034e+01 -5.35058942e+01\n",
      "   9.50579338e+01]\n",
      " [-4.66697443e+00  4.23777131e+01  4.31416222e+01 -8.99337497e+00\n",
      "  -8.34991166e-01  2.33493744e+01 -1.18759042e+01 -8.99337497e+00\n",
      "   1.58799944e-01 -1.42832770e+02 -1.19574950e-01  1.57049451e+02\n",
      "   6.49283390e+01]\n",
      " [-1.28154965e+00  1.04797726e+02 -4.40317944e+00 -8.61807198e-01\n",
      "  -3.56640518e+00  1.16680315e+01  5.31939360e+00 -8.61807198e-01\n",
      "   6.07875204e-01 -2.14872616e+02  1.69106261e+01  1.68293565e+02\n",
      "  -1.19262460e+00]]\n"
     ]
    }
   ],
   "source": [
    "pred = model.predict(X_test[0:VIEW_SAMPLE])\n",
    "\n",
    "for i in range(VIEW_SAMPLE):\n",
    "    print('Predicted:', pred[i], '\\tActual:', y_test[i])\n",
    "\n",
    "coefs = model.coef_\n",
    "print(coefs)"
   ]
  },
  {
   "cell_type": "code",
   "execution_count": 7,
   "id": "allied-scotland",
   "metadata": {
    "collapsed": true
   },
   "outputs": [
    {
     "name": "stdout",
     "output_type": "stream",
     "text": [
      "==============================\n",
      "C\n",
      "Age :  7.9141937836797664\n",
      "TS% :  98.125306319622\n",
      "3PAr :  -182.53428325397886\n",
      "TRB% :  13.349410131047083\n",
      "AST% :  -1.0402220013619456\n",
      "STL% :  -46.821077030947556\n",
      "BLK% :  32.66391121640712\n",
      "TRB% :  13.349410131047083\n",
      "USG% :  2.647638522384487\n",
      "FG% :  90.90146052622052\n",
      "3P% :  -12.853466136750946\n",
      "2P% :  -283.95086444821123\n",
      "FT% :  -96.73862723095768\n",
      "==============================\n",
      "PF\n",
      "Age :  6.662619383085026\n",
      "TS% :  15.225714618796134\n",
      "3PAr :  -7.1360638066948505\n",
      "TRB% :  12.112931560374534\n",
      "AST% :  -1.6747030530877487\n",
      "STL% :  -22.84709366089055\n",
      "BLK% :  12.992458846214436\n",
      "TRB% :  12.112931560374534\n",
      "USG% :  4.192213341604028\n",
      "FG% :  -45.53048239763996\n",
      "3P% :  10.058418308686184\n",
      "2P% :  12.11374184534788\n",
      "FT% :  -62.05502090265732\n",
      "==============================\n",
      "PG\n",
      "Age :  -8.628289082225487\n",
      "TS% :  -260.52646037719927\n",
      "3PAr :  150.93190425459036\n",
      "TRB% :  -15.607159521213823\n",
      "AST% :  7.116321403725067\n",
      "STL% :  34.650764742821885\n",
      "BLK% :  -39.099859443183334\n",
      "TRB% :  -15.607159521213823\n",
      "USG% :  -7.606527010883113\n",
      "FG% :  312.33440757433607\n",
      "3P% :  -13.996003357280578\n",
      "2P% :  -53.50589416423016\n",
      "FT% :  95.05793378267693\n",
      "==============================\n",
      "SG\n",
      "Age :  -4.666974434474277\n",
      "TS% :  42.37771314467754\n",
      "3PAr :  43.1416222388484\n",
      "TRB% :  -8.99337497249082\n",
      "AST% :  -0.8349911664677871\n",
      "STL% :  23.34937443802597\n",
      "BLK% :  -11.875904218539054\n",
      "TRB% :  -8.99337497249082\n",
      "USG% :  0.15879994351998739\n",
      "FG% :  -142.83276952860862\n",
      "3P% :  -0.11957494974563937\n",
      "2P% :  157.04945145078997\n",
      "FT% :  64.92833895475302\n",
      "==============================\n",
      "SF\n",
      "Age :  -1.2815496495744103\n",
      "TS% :  104.79772629157998\n",
      "3PAr :  -4.403179439084731\n",
      "TRB% :  -0.8618071976613887\n",
      "AST% :  -3.566405182729686\n",
      "STL% :  11.668031513493386\n",
      "BLK% :  5.319393599330146\n",
      "TRB% :  -0.8618071976613887\n",
      "USG% :  0.607875203585232\n",
      "FG% :  -214.872616171262\n",
      "3P% :  16.910626134619093\n",
      "2P% :  168.29356530790432\n",
      "FT% :  -1.1926246046242148\n"
     ]
    }
   ],
   "source": [
    "feature_labels = ['Age', 'TS%', '3PAr', 'TRB%', 'AST%', 'STL%', 'BLK%', 'TRB%', 'USG%', 'FG%', '3P%', '2P%', 'FT%']\n",
    "for i in range(5):\n",
    "    print(\"==============================\")\n",
    "    print(pos[i])\n",
    "    for j in range(13):\n",
    "        print(feature_labels[j], \": \", coefs[i][j])"
   ]
  },
  {
   "cell_type": "code",
   "execution_count": 8,
   "id": "shared-spencer",
   "metadata": {},
   "outputs": [],
   "source": [
    "def show_weights(coeff):\n",
    "    for i in range(coeff.shape[0]):\n",
    "        print(\"==============================\")\n",
    "        print(pos[i]) #constant pos\n",
    "        for j in range(coeff.shape[1]):\n",
    "            print(feature_labels[j], \": \", coeff[i][j])"
   ]
  },
  {
   "cell_type": "code",
   "execution_count": 9,
   "id": "musical-happening",
   "metadata": {},
   "outputs": [
    {
     "name": "stdout",
     "output_type": "stream",
     "text": [
      "==============================\n",
      "C\n",
      "Age :  7.9141937836797664\n",
      "TS% :  98.125306319622\n",
      "3PAr :  -182.53428325397886\n",
      "TRB% :  13.349410131047083\n",
      "AST% :  -1.0402220013619456\n",
      "STL% :  -46.821077030947556\n",
      "BLK% :  32.66391121640712\n",
      "TRB% :  13.349410131047083\n",
      "USG% :  2.647638522384487\n",
      "FG% :  90.90146052622052\n",
      "3P% :  -12.853466136750946\n",
      "2P% :  -283.95086444821123\n",
      "FT% :  -96.73862723095768\n",
      "==============================\n",
      "PF\n",
      "Age :  6.662619383085026\n",
      "TS% :  15.225714618796134\n",
      "3PAr :  -7.1360638066948505\n",
      "TRB% :  12.112931560374534\n",
      "AST% :  -1.6747030530877487\n",
      "STL% :  -22.84709366089055\n",
      "BLK% :  12.992458846214436\n",
      "TRB% :  12.112931560374534\n",
      "USG% :  4.192213341604028\n",
      "FG% :  -45.53048239763996\n",
      "3P% :  10.058418308686184\n",
      "2P% :  12.11374184534788\n",
      "FT% :  -62.05502090265732\n",
      "==============================\n",
      "PG\n",
      "Age :  -8.628289082225487\n",
      "TS% :  -260.52646037719927\n",
      "3PAr :  150.93190425459036\n",
      "TRB% :  -15.607159521213823\n",
      "AST% :  7.116321403725067\n",
      "STL% :  34.650764742821885\n",
      "BLK% :  -39.099859443183334\n",
      "TRB% :  -15.607159521213823\n",
      "USG% :  -7.606527010883113\n",
      "FG% :  312.33440757433607\n",
      "3P% :  -13.996003357280578\n",
      "2P% :  -53.50589416423016\n",
      "FT% :  95.05793378267693\n",
      "==============================\n",
      "SG\n",
      "Age :  -4.666974434474277\n",
      "TS% :  42.37771314467754\n",
      "3PAr :  43.1416222388484\n",
      "TRB% :  -8.99337497249082\n",
      "AST% :  -0.8349911664677871\n",
      "STL% :  23.34937443802597\n",
      "BLK% :  -11.875904218539054\n",
      "TRB% :  -8.99337497249082\n",
      "USG% :  0.15879994351998739\n",
      "FG% :  -142.83276952860862\n",
      "3P% :  -0.11957494974563937\n",
      "2P% :  157.04945145078997\n",
      "FT% :  64.92833895475302\n",
      "==============================\n",
      "SF\n",
      "Age :  -1.2815496495744103\n",
      "TS% :  104.79772629157998\n",
      "3PAr :  -4.403179439084731\n",
      "TRB% :  -0.8618071976613887\n",
      "AST% :  -3.566405182729686\n",
      "STL% :  11.668031513493386\n",
      "BLK% :  5.319393599330146\n",
      "TRB% :  -0.8618071976613887\n",
      "USG% :  0.607875203585232\n",
      "FG% :  -214.872616171262\n",
      "3P% :  16.910626134619093\n",
      "2P% :  168.29356530790432\n",
      "FT% :  -1.1926246046242148\n"
     ]
    }
   ],
   "source": [
    "show_weights(coefs)"
   ]
  },
  {
   "cell_type": "code",
   "execution_count": 11,
   "id": "charged-faith",
   "metadata": {},
   "outputs": [],
   "source": [
    "cVals = [0.0001, 0.001, 0.01, 0.1, 1, 10, 100]"
   ]
  },
  {
   "cell_type": "code",
   "execution_count": 45,
   "id": "turned-variety",
   "metadata": {},
   "outputs": [],
   "source": [
    "tr_acc = []\n",
    "ts_acc = []\n",
    "for c in cVals:\n",
    "    model_l1 = LogisticRegression(penalty='l1', C=c, solver='saga', random_state=21, multi_class='multinomial', max_iter=10000)\n",
    "    model_l1.fit(X_train,y_train)\n",
    "    acc = model_l1.score(X_test, y_test)\n",
    "    ts_acc.append(acc)\n",
    "    acc = model_l1.score(X_train, y_train)\n",
    "    tr_acc.append(acc)"
   ]
  },
  {
   "cell_type": "code",
   "execution_count": 46,
   "id": "revised-fashion",
   "metadata": {},
   "outputs": [
    {
     "data": {
      "image/png": "[encoded data removed]",
      "text/plain": [
       "<Figure size 432x288 with 1 Axes>"
      ]
     },
     "metadata": {
      "needs_background": "light"
     },
     "output_type": "display_data"
    }
   ],
   "source": [
    "plt.plot(cVals,tr_acc,'.-')\n",
    "plt.plot(cVals,ts_acc,'.-')\n",
    "plt.xlabel('c')\n",
    "plt.ylabel('accuracy')\n",
    "plt.xscale('log')\n",
    "#plt.ylim((0.64,0.645))\n",
    "plt.title('L1 regularisation: c vs accuracy')\n",
    "plt.grid()\n",
    "plt.legend(['Training Accuracy', 'Test Accuracy'])\n",
    "plt.show(block=False)"
   ]
  },
  {
   "cell_type": "code",
   "execution_count": 38,
   "id": "ruled-granny",
   "metadata": {},
   "outputs": [
    {
     "name": "stdout",
     "output_type": "stream",
     "text": [
      "[0.1919402985074627, 0.23761194029850746, 0.36149253731343284, 0.5889552238805971, 0.6298507462686567, 0.6417910447761194, 0.6462686567164179] [0.2018181818181818, 0.22484848484848485, 0.33454545454545453, 0.5927272727272728, 0.6284848484848485, 0.6430303030303031, 0.6393939393939394]\n"
     ]
    }
   ],
   "source": [
    "print(tr_acc, ts_acc)"
   ]
  },
  {
   "cell_type": "code",
   "execution_count": 47,
   "id": "frequent-brick",
   "metadata": {},
   "outputs": [],
   "source": [
    "tr_acc = []\n",
    "ts_acc = []\n",
    "for c in cVals:\n",
    "    model_l2 = LogisticRegression(penalty='l2', C=c, multi_class='multinomial', max_iter=10000)\n",
    "    model_l2.fit(X_train,y_train)\n",
    "    acc = model_l2.score(X_test, y_test)\n",
    "    ts_acc.append(acc)\n",
    "    acc = model_l2.score(X_train, y_train)\n",
    "    tr_acc.append(acc)"
   ]
  },
  {
   "cell_type": "code",
   "execution_count": 48,
   "id": "mounted-venice",
   "metadata": {},
   "outputs": [
    {
     "data": {
      "image/png": "[encoded data removed]",
      "text/plain": [
       "<Figure size 432x288 with 1 Axes>"
      ]
     },
     "metadata": {
      "needs_background": "light"
     },
     "output_type": "display_data"
    }
   ],
   "source": [
    "plt.plot(cVals,tr_acc,'.-')\n",
    "plt.plot(cVals,ts_acc,'.-')\n",
    "plt.xlabel('c')\n",
    "plt.ylabel('accuracy')\n",
    "plt.xscale('log')\n",
    "#plt.ylim((0.64,0.645))\n",
    "plt.title('L2 regularisation: c vs accuracy')\n",
    "plt.grid()\n",
    "plt.legend(['Training Accuracy', 'Test Accuracy'])\n",
    "plt.show(block=False)"
   ]
  },
  {
   "cell_type": "markdown",
   "id": "olympic-tissue",
   "metadata": {},
   "source": [
    "# Logistic Regression Using Polynomial Feature Transformation\n"
   ]
  },
  {
   "cell_type": "code",
   "execution_count": 41,
   "id": "crazy-harbor",
   "metadata": {},
   "outputs": [],
   "source": [
    "from sklearn.preprocessing import PolynomialFeatures"
   ]
  },
  {
   "cell_type": "code",
   "execution_count": 42,
   "id": "closed-acrobat",
   "metadata": {},
   "outputs": [],
   "source": [
    "poly = PolynomialFeatures(2)"
   ]
  },
  {
   "cell_type": "code",
   "execution_count": 43,
   "id": "cloudy-directory",
   "metadata": {},
   "outputs": [],
   "source": [
    "X_transformed_train = poly.fit_transform(X_train)\n",
    "X_transformed_test = poly.fit_transform(X_test)"
   ]
  },
  {
   "cell_type": "code",
   "execution_count": 52,
   "id": "martial-english",
   "metadata": {},
   "outputs": [],
   "source": [
    "# L1 with transforms\n",
    "tr_acc = []\n",
    "ts_acc = []\n",
    "for c in cVals:\n",
    "    model_l1 = LogisticRegression(penalty='l1', C=c, solver='saga', random_state=21, multi_class='multinomial', max_iter=10000)\n",
    "    model_l1.fit(X_transformed_train,y_train)\n",
    "    acc = model_l1.score(X_transformed_test, y_test)\n",
    "    ts_acc.append(acc)\n",
    "    acc = model_l1.score(X_transformed_train, y_train)\n",
    "    tr_acc.append(acc)"
   ]
  },
  {
   "cell_type": "code",
   "execution_count": 50,
   "id": "roman-treasure",
   "metadata": {},
   "outputs": [],
   "source": [
    "def plot_acc(tr_acc, ts_acc, title):\n",
    "    plt.plot(cVals,tr_acc,'.-')\n",
    "    plt.plot(cVals,ts_acc,'.-')\n",
    "    plt.xlabel('c')\n",
    "    plt.ylabel('accuracy')\n",
    "    plt.xscale('log')\n",
    "    plt.title(title)\n",
    "    plt.grid()\n",
    "    plt.legend(['Training Accuracy', 'Test Accuracy'])\n",
    "    plt.show(block=False)"
   ]
  },
  {
   "cell_type": "code",
   "execution_count": 53,
   "id": "regulation-rwanda",
   "metadata": {},
   "outputs": [
    {
     "data": {
      "image/png": "[encoded data removed]",
      "text/plain": [
       "<Figure size 432x288 with 1 Axes>"
      ]
     },
     "metadata": {
      "needs_background": "light"
     },
     "output_type": "display_data"
    }
   ],
   "source": [
    "plot_acc(tr_acc,ts_acc,\"L1 regularisation with Poly(2) transform vs accuracy\")"
   ]
  },
  {
   "cell_type": "code",
   "execution_count": 54,
   "id": "dramatic-church",
   "metadata": {},
   "outputs": [],
   "source": [
    "# L2 with transforms\n",
    "tr_acc = []\n",
    "ts_acc = []\n",
    "for c in cVals:\n",
    "    model_l2 = LogisticRegression(penalty='l2', C=c, random_state=21, multi_class='multinomial', max_iter=10000)\n",
    "    model_l2.fit(X_transformed_train,y_train)\n",
    "    acc = model_l2.score(X_transformed_test, y_test)\n",
    "    ts_acc.append(acc)\n",
    "    acc = model_l2.score(X_transformed_train, y_train)\n",
    "    tr_acc.append(acc)"
   ]
  },
  {
   "cell_type": "code",
   "execution_count": 55,
   "id": "injured-soundtrack",
   "metadata": {},
   "outputs": [
    {
     "data": {
      "image/png": "[encoded data removed]",
      "text/plain": [
       "<Figure size 432x288 with 1 Axes>"
      ]
     },
     "metadata": {
      "needs_background": "light"
     },
     "output_type": "display_data"
    }
   ],
   "source": [
    "plot_acc(tr_acc,ts_acc,\"L2 regularisation with Poly(2) transform vs accuracy\")"
   ]
  },
  {
   "cell_type": "code",
   "execution_count": 56,
   "id": "speaking-shopping",
   "metadata": {},
   "outputs": [
    {
     "name": "stdout",
     "output_type": "stream",
     "text": [
      "[0.23761194029850746, 0.3838805970149254, 0.5220895522388059, 0.5737313432835821, 0.6077611940298507, 0.6295522388059701, 0.6465671641791044] [0.22484848484848485, 0.35878787878787877, 0.5121212121212121, 0.5836363636363636, 0.6036363636363636, 0.6248484848484849, 0.6327272727272727]\n"
     ]
    }
   ],
   "source": [
    "print(tr_acc, ts_acc)"
   ]
  },
  {
   "cell_type": "code",
   "execution_count": 57,
   "id": "norman-eagle",
   "metadata": {},
   "outputs": [
    {
     "name": "stdout",
     "output_type": "stream",
     "text": [
      "0.6465671641791044 0.6327272727272727\n"
     ]
    }
   ],
   "source": [
    "print(max(tr_acc), max(ts_acc))"
   ]
  },
  {
   "cell_type": "code",
   "execution_count": 59,
   "id": "vietnamese-rescue",
   "metadata": {},
   "outputs": [
    {
     "name": "stdout",
     "output_type": "stream",
     "text": [
      "0.6327272727272727\n",
      "0.6597014925373135\n"
     ]
    },
    {
     "name": "stderr",
     "output_type": "stream",
     "text": [
      "c:\\users\\andrew qu\\.virtualenvs\\andrew_qu-3aprwf1j\\lib\\site-packages\\sklearn\\linear_model\\_logistic.py:763: ConvergenceWarning: lbfgs failed to converge (status=1):\n",
      "STOP: TOTAL NO. of ITERATIONS REACHED LIMIT.\n",
      "\n",
      "Increase the number of iterations (max_iter) or scale the data as shown in:\n",
      "    https://scikit-learn.org/stable/modules/preprocessing.html\n",
      "Please also refer to the documentation for alternative solver options:\n",
      "    https://scikit-learn.org/stable/modules/linear_model.html#logistic-regression\n",
      "  n_iter_i = _check_optimize_result(\n"
     ]
    }
   ],
   "source": [
    "model_none = LogisticRegression(penalty='none', random_state=21, multi_class='multinomial', max_iter=10000)\n",
    "model_none.fit(X_transformed_train,y_train)\n",
    "acc = model_none.score(X_transformed_test, y_test)\n",
    "print(acc)\n",
    "acc = model_none.score(X_transformed_train, y_train)\n",
    "print(acc)"
   ]
  },
  {
   "cell_type": "code",
   "execution_count": null,
   "id": "optional-compromise",
   "metadata": {},
   "outputs": [],
   "source": []
  }
 ],
 "metadata": {
  "kernelspec": {
   "display_name": "Python 3",
   "language": "python",
   "name": "python3"
  },
  "language_info": {
   "codemirror_mode": {
    "name": "ipython",
    "version": 3
   },
   "file_extension": ".py",
   "mimetype": "text/x-python",
   "name": "python",
   "nbconvert_exporter": "python",
   "pygments_lexer": "ipython3",
   "version": "3.9.1"
  }
 },
 "nbformat": 4,
 "nbformat_minor": 5
}
