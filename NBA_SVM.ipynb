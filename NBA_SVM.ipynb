{
 "cells": [
  {
   "cell_type": "code",
   "execution_count": 24,
   "id": "improving-there",
   "metadata": {},
   "outputs": [],
   "source": [
    "import numpy as np\n",
    "import pandas as pd\n",
    "from sklearn.preprocessing import StandardScaler\n",
    "from sklearn.svm import SVC\n",
    "from sklearn.model_selection import train_test_split\n",
    "from sklearn.model_selection import GridSearchCV\n",
    "from sklearn.metrics import accuracy_score, classification_report\n",
    "from sklearn.pipeline import make_pipeline\n",
    "import matplotlib.pyplot as plt\n",
    "%matplotlib inline "
   ]
  },
  {
   "cell_type": "code",
   "execution_count": 4,
   "id": "laden-exchange",
   "metadata": {},
   "outputs": [],
   "source": [
    "STATS_CSV = \"Seasons_Stats.csv\"\n",
    "PLAYER_DATA_CSV = \"player_data.csv\"\n",
    "#Read data\n",
    "stats = pd.read_csv(STATS_CSV)\n",
    "#Only keep players that have played many minutes, are in the 5 major positions\n",
    "pos = ['C', 'PF', 'PG', 'SG', 'SF']\n",
    "stats = stats[stats['MP'] >= 1750]\n",
    "stats = stats[stats['Pos'].isin(pos)]\n",
    "#Only keep useful columns\n",
    "stats = stats[['Pos', 'Age', 'TS%', '3PAr', 'TRB%', 'AST%', 'STL%', 'BLK%', 'TRB%', 'USG%', 'FG%', '3P%', '2P%', 'FT%']]\n",
    "#Drop rows with missing data\n",
    "stats = stats.dropna(0)"
   ]
  },
  {
   "cell_type": "code",
   "execution_count": 5,
   "id": "better-bouquet",
   "metadata": {},
   "outputs": [
    {
     "name": "stdout",
     "output_type": "stream",
     "text": [
      "C:  722\n",
      "PF:  1010\n",
      "PG:  1106\n",
      "SG:  1133\n",
      "SF:  1130\n"
     ]
    }
   ],
   "source": [
    "for p in pos:\n",
    "    print(p + \": \", stats[stats['Pos'] == p].shape[0])"
   ]
  },
  {
   "cell_type": "code",
   "execution_count": 6,
   "id": "innovative-dictionary",
   "metadata": {},
   "outputs": [],
   "source": [
    "#Get and normalize the features\n",
    "X = stats.drop(['Pos'], axis=1)\n",
    "feature_labels = X.columns\n",
    "X = X.to_numpy()\n",
    "#normalize(X, copy=False)\n",
    "X_scaled = StandardScaler().fit(X).transform(X)\n",
    "\n",
    "#Get and normalize the target\n",
    "y = stats['Pos']\n",
    "for i in range(5):\n",
    "    y = y.replace(to_replace=pos[i], value=i)\n",
    "y = y.to_numpy()\n",
    "\n",
    "X_train, X_test, y_train, y_test = train_test_split(X_scaled, y, test_size=0.33, random_state=21)"
   ]
  },
  {
   "cell_type": "markdown",
   "id": "acknowledged-dance",
   "metadata": {},
   "source": [
    "# Linear Kernel"
   ]
  },
  {
   "cell_type": "code",
   "execution_count": 9,
   "id": "blessed-energy",
   "metadata": {},
   "outputs": [],
   "source": [
    "cVals = [0.001, 0.01, 0.1, 1, 10, 100, 1000]"
   ]
  },
  {
   "cell_type": "code",
   "execution_count": 16,
   "id": "cross-citizenship",
   "metadata": {},
   "outputs": [],
   "source": [
    "def run_linear_svc(X_tr, y_tr, X_ts, y_ts):\n",
    "    for C in cVals:\n",
    "        linear_model = SVC(kernel='linear', C=C).fit(X_tr, y_tr)\n",
    "        for p, sv in zip(pos,linear_model.n_support_):\n",
    "            print(p, \" support vectors: \", sv)\n",
    "        train_pred = linear_model.predict(X_tr)\n",
    "        test_pred = linear_model.predict(X_ts)\n",
    "        print(\"C=\", C, \", Train Accuracy=\", accuracy_score(y_tr,train_pred))\n",
    "        print(classification_report(y_tr,train_pred,labels=[0,1,2,3,4],target_names=pos))\n",
    "        print(\"C=\", C, \", Test Accuracy=\", accuracy_score(y_ts,test_pred))\n",
    "        print(classification_report(y_ts,test_pred,labels=[0,1,2,3,4],target_names=pos))"
   ]
  },
  {
   "cell_type": "code",
   "execution_count": 17,
   "id": "liked-fortune",
   "metadata": {},
   "outputs": [
    {
     "name": "stdout",
     "output_type": "stream",
     "text": [
      "C  support vectors:  479\n",
      "PF  support vectors:  672\n",
      "PG  support vectors:  629\n",
      "SG  support vectors:  749\n",
      "SF  support vectors:  762\n",
      "C= 0.001 , Train Accuracy= 0.6599356160374598\n",
      "              precision    recall  f1-score   support\n",
      "\n",
      "           C       0.87      0.34      0.49       492\n",
      "          PF       0.55      0.74      0.63       673\n",
      "          PG       0.88      0.83      0.85       741\n",
      "          SG       0.59      0.81      0.68       749\n",
      "          SF       0.62      0.48      0.54       762\n",
      "\n",
      "    accuracy                           0.66      3417\n",
      "   macro avg       0.70      0.64      0.64      3417\n",
      "weighted avg       0.69      0.66      0.65      3417\n",
      "\n",
      "C= 0.001 , Test Accuracy= 0.6656769596199525\n",
      "              precision    recall  f1-score   support\n",
      "\n",
      "           C       0.85      0.30      0.44       230\n",
      "          PF       0.56      0.72      0.63       337\n",
      "          PG       0.90      0.84      0.87       365\n",
      "          SG       0.61      0.81      0.69       384\n",
      "          SF       0.61      0.52      0.56       368\n",
      "\n",
      "    accuracy                           0.67      1684\n",
      "   macro avg       0.71      0.64      0.64      1684\n",
      "weighted avg       0.69      0.67      0.66      1684\n",
      "\n",
      "C  support vectors:  391\n",
      "PF  support vectors:  633\n",
      "PG  support vectors:  344\n",
      "SG  support vectors:  678\n",
      "SF  support vectors:  753\n",
      "C= 0.01 , Train Accuracy= 0.7029558091893474\n",
      "              precision    recall  f1-score   support\n",
      "\n",
      "           C       0.70      0.53      0.60       492\n",
      "          PF       0.59      0.68      0.63       673\n",
      "          PG       0.89      0.88      0.89       741\n",
      "          SG       0.69      0.73      0.71       749\n",
      "          SF       0.65      0.64      0.64       762\n",
      "\n",
      "    accuracy                           0.70      3417\n",
      "   macro avg       0.70      0.69      0.69      3417\n",
      "weighted avg       0.71      0.70      0.70      3417\n",
      "\n",
      "C= 0.01 , Test Accuracy= 0.7078384798099763\n",
      "              precision    recall  f1-score   support\n",
      "\n",
      "           C       0.75      0.50      0.60       230\n",
      "          PF       0.61      0.70      0.65       337\n",
      "          PG       0.89      0.89      0.89       365\n",
      "          SG       0.69      0.71      0.70       384\n",
      "          SF       0.63      0.67      0.65       368\n",
      "\n",
      "    accuracy                           0.71      1684\n",
      "   macro avg       0.72      0.69      0.70      1684\n",
      "weighted avg       0.71      0.71      0.71      1684\n",
      "\n",
      "C  support vectors:  358\n",
      "PF  support vectors:  581\n",
      "PG  support vectors:  228\n",
      "SG  support vectors:  561\n",
      "SF  support vectors:  642\n",
      "C= 0.1 , Train Accuracy= 0.7114427860696517\n",
      "              precision    recall  f1-score   support\n",
      "\n",
      "           C       0.71      0.60      0.65       492\n",
      "          PF       0.61      0.67      0.64       673\n",
      "          PG       0.89      0.89      0.89       741\n",
      "          SG       0.71      0.70      0.70       749\n",
      "          SF       0.64      0.66      0.65       762\n",
      "\n",
      "    accuracy                           0.71      3417\n",
      "   macro avg       0.71      0.70      0.71      3417\n",
      "weighted avg       0.71      0.71      0.71      3417\n",
      "\n",
      "C= 0.1 , Test Accuracy= 0.7013064133016627\n",
      "              precision    recall  f1-score   support\n",
      "\n",
      "           C       0.73      0.55      0.63       230\n",
      "          PF       0.61      0.67      0.64       337\n",
      "          PG       0.87      0.90      0.88       365\n",
      "          SG       0.70      0.67      0.68       384\n",
      "          SF       0.62      0.66      0.64       368\n",
      "\n",
      "    accuracy                           0.70      1684\n",
      "   macro avg       0.70      0.69      0.69      1684\n",
      "weighted avg       0.70      0.70      0.70      1684\n",
      "\n",
      "C  support vectors:  352\n",
      "PF  support vectors:  569\n",
      "PG  support vectors:  202\n",
      "SG  support vectors:  530\n",
      "SF  support vectors:  616\n",
      "C= 1 , Train Accuracy= 0.7146619841966637\n",
      "              precision    recall  f1-score   support\n",
      "\n",
      "           C       0.72      0.60      0.65       492\n",
      "          PF       0.61      0.68      0.64       673\n",
      "          PG       0.89      0.89      0.89       741\n",
      "          SG       0.71      0.70      0.70       749\n",
      "          SF       0.65      0.66      0.65       762\n",
      "\n",
      "    accuracy                           0.71      3417\n",
      "   macro avg       0.72      0.71      0.71      3417\n",
      "weighted avg       0.72      0.71      0.71      3417\n",
      "\n",
      "C= 1 , Test Accuracy= 0.7048693586698337\n",
      "              precision    recall  f1-score   support\n",
      "\n",
      "           C       0.73      0.55      0.63       230\n",
      "          PF       0.61      0.67      0.64       337\n",
      "          PG       0.87      0.90      0.88       365\n",
      "          SG       0.71      0.67      0.69       384\n",
      "          SF       0.63      0.67      0.65       368\n",
      "\n",
      "    accuracy                           0.70      1684\n",
      "   macro avg       0.71      0.69      0.70      1684\n",
      "weighted avg       0.71      0.70      0.70      1684\n",
      "\n",
      "C  support vectors:  352\n",
      "PF  support vectors:  564\n",
      "PG  support vectors:  201\n",
      "SG  support vectors:  521\n",
      "SF  support vectors:  611\n",
      "C= 10 , Train Accuracy= 0.7140766754462979\n",
      "              precision    recall  f1-score   support\n",
      "\n",
      "           C       0.72      0.60      0.65       492\n",
      "          PF       0.61      0.68      0.64       673\n",
      "          PG       0.89      0.89      0.89       741\n",
      "          SG       0.71      0.70      0.70       749\n",
      "          SF       0.65      0.66      0.65       762\n",
      "\n",
      "    accuracy                           0.71      3417\n",
      "   macro avg       0.71      0.71      0.71      3417\n",
      "weighted avg       0.72      0.71      0.71      3417\n",
      "\n",
      "C= 10 , Test Accuracy= 0.7019002375296912\n",
      "              precision    recall  f1-score   support\n",
      "\n",
      "           C       0.72      0.55      0.63       230\n",
      "          PF       0.60      0.67      0.63       337\n",
      "          PG       0.87      0.90      0.88       365\n",
      "          SG       0.70      0.67      0.69       384\n",
      "          SF       0.63      0.66      0.64       368\n",
      "\n",
      "    accuracy                           0.70      1684\n",
      "   macro avg       0.70      0.69      0.69      1684\n",
      "weighted avg       0.70      0.70      0.70      1684\n",
      "\n",
      "C  support vectors:  352\n",
      "PF  support vectors:  564\n",
      "PG  support vectors:  200\n",
      "SG  support vectors:  521\n",
      "SF  support vectors:  611\n",
      "C= 100 , Train Accuracy= 0.7140766754462979\n",
      "              precision    recall  f1-score   support\n",
      "\n",
      "           C       0.72      0.60      0.65       492\n",
      "          PF       0.61      0.68      0.64       673\n",
      "          PG       0.89      0.89      0.89       741\n",
      "          SG       0.71      0.70      0.70       749\n",
      "          SF       0.65      0.66      0.65       762\n",
      "\n",
      "    accuracy                           0.71      3417\n",
      "   macro avg       0.71      0.71      0.71      3417\n",
      "weighted avg       0.72      0.71      0.71      3417\n",
      "\n",
      "C= 100 , Test Accuracy= 0.7024940617577197\n",
      "              precision    recall  f1-score   support\n",
      "\n",
      "           C       0.72      0.55      0.63       230\n",
      "          PF       0.60      0.67      0.63       337\n",
      "          PG       0.87      0.90      0.88       365\n",
      "          SG       0.71      0.67      0.69       384\n",
      "          SF       0.63      0.66      0.64       368\n",
      "\n",
      "    accuracy                           0.70      1684\n",
      "   macro avg       0.70      0.69      0.70      1684\n",
      "weighted avg       0.70      0.70      0.70      1684\n",
      "\n",
      "C  support vectors:  351\n",
      "PF  support vectors:  564\n",
      "PG  support vectors:  200\n",
      "SG  support vectors:  520\n",
      "SF  support vectors:  611\n",
      "C= 1000 , Train Accuracy= 0.7140766754462979\n",
      "              precision    recall  f1-score   support\n",
      "\n",
      "           C       0.72      0.60      0.65       492\n",
      "          PF       0.61      0.68      0.64       673\n",
      "          PG       0.89      0.89      0.89       741\n",
      "          SG       0.71      0.70      0.70       749\n",
      "          SF       0.65      0.66      0.65       762\n",
      "\n",
      "    accuracy                           0.71      3417\n",
      "   macro avg       0.71      0.71      0.71      3417\n",
      "weighted avg       0.72      0.71      0.71      3417\n",
      "\n",
      "C= 1000 , Test Accuracy= 0.7030878859857482\n",
      "              precision    recall  f1-score   support\n",
      "\n",
      "           C       0.72      0.55      0.63       230\n",
      "          PF       0.60      0.67      0.63       337\n",
      "          PG       0.87      0.90      0.88       365\n",
      "          SG       0.71      0.67      0.69       384\n",
      "          SF       0.63      0.66      0.64       368\n",
      "\n",
      "    accuracy                           0.70      1684\n",
      "   macro avg       0.71      0.69      0.70      1684\n",
      "weighted avg       0.71      0.70      0.70      1684\n",
      "\n"
     ]
    }
   ],
   "source": [
    "run_linear_svc(X_train, y_train, X_test, y_test)"
   ]
  },
  {
   "cell_type": "markdown",
   "id": "theoretical-brighton",
   "metadata": {},
   "source": [
    "# Radial Basis Kernel"
   ]
  },
  {
   "cell_type": "code",
   "execution_count": 25,
   "id": "south-bloom",
   "metadata": {},
   "outputs": [],
   "source": [
    "# adopted from JakeVDP\n",
    "param_grid = {'svc__C': [1, 5, 10, 50],\n",
    "              'svc__gamma': [0.0001, 0.0005, 0.001, 0.005]}\n",
    "rbf_model = make_pipeline(SVC(kernel='rbf', class_weight='balanced'))"
   ]
  },
  {
   "cell_type": "code",
   "execution_count": 26,
   "id": "stable-liberal",
   "metadata": {},
   "outputs": [
    {
     "data": {
      "text/plain": [
       "GridSearchCV(estimator=Pipeline(steps=[('svc', SVC(class_weight='balanced'))]),\n",
       "             param_grid={'svc__C': [1, 5, 10, 50],\n",
       "                         'svc__gamma': [0.0001, 0.0005, 0.001, 0.005]})"
      ]
     },
     "execution_count": 26,
     "metadata": {},
     "output_type": "execute_result"
    }
   ],
   "source": [
    "grid = GridSearchCV(rbf_model,param_grid)\n",
    "grid.fit(X_train, y_train)"
   ]
  },
  {
   "cell_type": "code",
   "execution_count": 27,
   "id": "following-diving",
   "metadata": {},
   "outputs": [
    {
     "name": "stdout",
     "output_type": "stream",
     "text": [
      "{'svc__C': 50, 'svc__gamma': 0.005}\n"
     ]
    }
   ],
   "source": [
    "print(grid.best_params_)"
   ]
  },
  {
   "cell_type": "code",
   "execution_count": 28,
   "id": "expected-thermal",
   "metadata": {},
   "outputs": [],
   "source": [
    "rbf_train_pred = grid.predict(X_train)\n",
    "rbf_test_pred = grid.predict(X_test)"
   ]
  },
  {
   "cell_type": "code",
   "execution_count": 33,
   "id": "indonesian-morgan",
   "metadata": {},
   "outputs": [
    {
     "name": "stdout",
     "output_type": "stream",
     "text": [
      "              precision    recall  f1-score   support\n",
      "\n",
      "           0       0.68      0.76      0.72       492\n",
      "           1       0.66      0.61      0.64       673\n",
      "           2       0.89      0.90      0.89       741\n",
      "           3       0.72      0.72      0.72       749\n",
      "           4       0.67      0.67      0.67       762\n",
      "\n",
      "    accuracy                           0.73      3417\n",
      "   macro avg       0.73      0.73      0.73      3417\n",
      "weighted avg       0.73      0.73      0.73      3417\n",
      "\n"
     ]
    }
   ],
   "source": [
    "print(classification_report(y_train,rbf_train_pred))"
   ]
  },
  {
   "cell_type": "code",
   "execution_count": 34,
   "id": "proper-victorian",
   "metadata": {
    "scrolled": true
   },
   "outputs": [
    {
     "name": "stdout",
     "output_type": "stream",
     "text": [
      "              precision    recall  f1-score   support\n",
      "\n",
      "           0       0.68      0.70      0.69       230\n",
      "           1       0.64      0.62      0.63       337\n",
      "           2       0.87      0.90      0.88       365\n",
      "           3       0.71      0.68      0.70       384\n",
      "           4       0.64      0.66      0.65       368\n",
      "\n",
      "    accuracy                           0.71      1684\n",
      "   macro avg       0.71      0.71      0.71      1684\n",
      "weighted avg       0.71      0.71      0.71      1684\n",
      "\n"
     ]
    }
   ],
   "source": [
    "print(classification_report(y_test,rbf_test_pred))"
   ]
  },
  {
   "cell_type": "code",
   "execution_count": 45,
   "id": "absent-winner",
   "metadata": {},
   "outputs": [
    {
     "data": {
      "text/plain": [
       "SVC(C=50, class_weight='balanced', gamma=0.005)"
      ]
     },
     "execution_count": 45,
     "metadata": {},
     "output_type": "execute_result"
    }
   ],
   "source": [
    "best_rbf_model = SVC(kernel='rbf', C=50, gamma=0.005, class_weight='balanced')\n",
    "best_rbf_model.fit(X_train,y_train)"
   ]
  },
  {
   "cell_type": "code",
   "execution_count": 46,
   "id": "competitive-banana",
   "metadata": {},
   "outputs": [
    {
     "data": {
      "text/plain": [
       "array([299, 573, 206, 521, 623])"
      ]
     },
     "execution_count": 46,
     "metadata": {},
     "output_type": "execute_result"
    }
   ],
   "source": [
    "best_rbf_model.n_support_"
   ]
  },
  {
   "cell_type": "markdown",
   "id": "voluntary-vegetarian",
   "metadata": {},
   "source": [
    "# Polynomial Kernel"
   ]
  },
  {
   "cell_type": "code",
   "execution_count": 35,
   "id": "improving-sector",
   "metadata": {},
   "outputs": [],
   "source": [
    "poly_model = make_pipeline(SVC(kernel='poly', class_weight='balanced'))"
   ]
  },
  {
   "cell_type": "code",
   "execution_count": 36,
   "id": "round-butter",
   "metadata": {},
   "outputs": [
    {
     "data": {
      "text/plain": [
       "GridSearchCV(estimator=Pipeline(steps=[('svc',\n",
       "                                        SVC(class_weight='balanced',\n",
       "                                            kernel='poly'))]),\n",
       "             param_grid={'svc__C': [1, 5, 10, 50],\n",
       "                         'svc__gamma': [0.0001, 0.0005, 0.001, 0.005]})"
      ]
     },
     "execution_count": 36,
     "metadata": {},
     "output_type": "execute_result"
    }
   ],
   "source": [
    "poly_grid = GridSearchCV(poly_model,param_grid)\n",
    "poly_grid.fit(X_train, y_train)"
   ]
  },
  {
   "cell_type": "code",
   "execution_count": 37,
   "id": "minor-token",
   "metadata": {},
   "outputs": [
    {
     "name": "stdout",
     "output_type": "stream",
     "text": [
      "{'svc__C': 50, 'svc__gamma': 0.005}\n"
     ]
    }
   ],
   "source": [
    "print(poly_grid.best_params_)"
   ]
  },
  {
   "cell_type": "code",
   "execution_count": 38,
   "id": "vietnamese-motion",
   "metadata": {},
   "outputs": [],
   "source": [
    "poly_train_pred = poly_grid.predict(X_train)\n",
    "poly_test_pred = poly_grid.predict(X_test)"
   ]
  },
  {
   "cell_type": "code",
   "execution_count": 39,
   "id": "champion-jamaica",
   "metadata": {},
   "outputs": [
    {
     "name": "stdout",
     "output_type": "stream",
     "text": [
      "              precision    recall  f1-score   support\n",
      "\n",
      "           0       0.83      0.44      0.58       492\n",
      "           1       0.59      0.31      0.40       673\n",
      "           2       0.98      0.38      0.55       741\n",
      "           3       0.45      0.92      0.61       749\n",
      "           4       0.40      0.52      0.45       762\n",
      "\n",
      "    accuracy                           0.52      3417\n",
      "   macro avg       0.65      0.51      0.52      3417\n",
      "weighted avg       0.63      0.52      0.51      3417\n",
      "\n"
     ]
    }
   ],
   "source": [
    "print(classification_report(y_train,poly_train_pred))"
   ]
  },
  {
   "cell_type": "code",
   "execution_count": 40,
   "id": "boxed-iceland",
   "metadata": {},
   "outputs": [
    {
     "name": "stdout",
     "output_type": "stream",
     "text": [
      "              precision    recall  f1-score   support\n",
      "\n",
      "           0       0.80      0.41      0.54       230\n",
      "           1       0.57      0.29      0.39       337\n",
      "           2       0.98      0.43      0.60       365\n",
      "           3       0.47      0.91      0.62       384\n",
      "           4       0.38      0.50      0.43       368\n",
      "\n",
      "    accuracy                           0.52      1684\n",
      "   macro avg       0.64      0.51      0.52      1684\n",
      "weighted avg       0.62      0.52      0.52      1684\n",
      "\n"
     ]
    }
   ],
   "source": [
    "print(classification_report(y_test,poly_test_pred))"
   ]
  },
  {
   "cell_type": "code",
   "execution_count": 43,
   "id": "basic-toner",
   "metadata": {},
   "outputs": [
    {
     "data": {
      "text/plain": [
       "SVC(C=50, class_weight='balanced', gamma=0.005, kernel='poly')"
      ]
     },
     "execution_count": 43,
     "metadata": {},
     "output_type": "execute_result"
    }
   ],
   "source": [
    "best_poly_model = SVC(kernel='poly', C=50, gamma=0.005, class_weight='balanced')\n",
    "best_poly_model.fit(X_train,y_train)"
   ]
  },
  {
   "cell_type": "code",
   "execution_count": 44,
   "id": "integrated-breeding",
   "metadata": {},
   "outputs": [
    {
     "data": {
      "text/plain": [
       "array([388, 673, 684, 749, 762])"
      ]
     },
     "execution_count": 44,
     "metadata": {},
     "output_type": "execute_result"
    }
   ],
   "source": [
    "best_poly_model.n_support_"
   ]
  },
  {
   "cell_type": "code",
   "execution_count": null,
   "id": "royal-quality",
   "metadata": {},
   "outputs": [],
   "source": []
  }
 ],
 "metadata": {
  "kernelspec": {
   "display_name": "Python 3",
   "language": "python",
   "name": "python3"
  },
  "language_info": {
   "codemirror_mode": {
    "name": "ipython",
    "version": 3
   },
   "file_extension": ".py",
   "mimetype": "text/x-python",
   "name": "python",
   "nbconvert_exporter": "python",
   "pygments_lexer": "ipython3",
   "version": "3.9.1"
  }
 },
 "nbformat": 4,
 "nbformat_minor": 5
}
